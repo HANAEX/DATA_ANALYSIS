{
 "cells": [
  {
   "cell_type": "code",
   "execution_count": 1,
   "id": "4605fdf7",
   "metadata": {},
   "outputs": [
    {
     "name": "stdout",
     "output_type": "stream",
     "text": [
      "Sentiment analysis results saved to word20_sentiment.json\n"
     ]
    }
   ],
   "source": [
    "# 이게 최신\n",
    "import requests\n",
    "import json\n",
    "\n",
    "# API 엔드포인트와 헤더 설정\n",
    "url = \"https://naveropenapi.apigw.ntruss.com/sentiment-analysis/v1/analyze\"\n",
    "headers = {\n",
    "    \"X-NCP-APIGW-API-KEY-ID\": \"8a33wechhd\",\n",
    "    \"X-NCP-APIGW-API-KEY\": \"MNYqaT3Gp6NsbWaJ1HwarRsQVvpKb2Tvab5wNxiZ\",\n",
    "    \"Content-Type\": \"application/json\"\n",
    "}\n",
    "\n",
    "file_path_read = '/Users/yang-jin-an/top_20_bigrams_USD_3.json'\n",
    "# JSON 파일에서 단어 리스트 로드\n",
    "with open(file_path_read, 'r', encoding='utf-8') as f:\n",
    "    word_data = json.load(f)\n",
    "\n",
    "# 결과 저장을 위한 리스트 초기화\n",
    "results = []\n",
    "\n",
    "# 각 단어에 대해 감정 분석 수행\n",
    "for item in word_data:\n",
    "    text = item['text']\n",
    "    data = {\n",
    "        \"content\": text\n",
    "    }\n",
    "    response = requests.post(url, headers=headers, json=data)\n",
    "    \n",
    "    # 응답 상태 코드 확인\n",
    "    if response.status_code != 200:\n",
    "        print(f\"Error: Received response with status code {response.status_code}\")\n",
    "        print(response.text)  # 오류 메시지 출력\n",
    "        continue\n",
    "    \n",
    "    result = response.json()\n",
    "    \n",
    "    # 'document' 키가 있는지 확인\n",
    "    if 'document' not in result:\n",
    "        print(f\"Error: 'document' key not found in response for text: {text}\")\n",
    "        print(result)  # 전체 응답 출력\n",
    "        continue\n",
    "    \n",
    "    # 감정 분석 결과 추가\n",
    "    item['sentiment'] = result['document']['sentiment']\n",
    "    \n",
    "    # 결과 리스트에 추가\n",
    "    results.append(item)\n",
    "\n",
    "# 결과를 word20_sentiment.json 파일로 저장\n",
    "with open('word20_sentiment_USD.json', 'w', encoding='utf-8') as f:\n",
    "    json.dump(results, f, ensure_ascii=False, indent=4)\n",
    "\n",
    "print(\"Sentiment analysis results saved to word20_sentiment.json\")"
   ]
  }
 ],
 "metadata": {
  "kernelspec": {
   "display_name": "Python 3 (ipykernel)",
   "language": "python",
   "name": "python3"
  },
  "language_info": {
   "codemirror_mode": {
    "name": "ipython",
    "version": 3
   },
   "file_extension": ".py",
   "mimetype": "text/x-python",
   "name": "python",
   "nbconvert_exporter": "python",
   "pygments_lexer": "ipython3",
   "version": "3.9.16"
  }
 },
 "nbformat": 4,
 "nbformat_minor": 5
}
